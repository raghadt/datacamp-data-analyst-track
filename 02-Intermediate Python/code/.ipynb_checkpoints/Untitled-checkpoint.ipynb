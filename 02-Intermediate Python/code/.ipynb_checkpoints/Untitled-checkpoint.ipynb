{
 "cells": [
  {
   "cell_type": "markdown",
   "metadata": {},
   "source": [
    "# Title"
   ]
  },
  {
   "cell_type": "markdown",
   "metadata": {},
   "source": [
    "## Chapter 1:"
   ]
  },
  {
   "cell_type": "code",
   "execution_count": 7,
   "metadata": {
    "jupyter": {
     "source_hidden": true
    }
   },
   "outputs": [],
   "source": [
    "year=[1950,\n",
    " 1951,\n",
    " 1952,\n",
    " 1953,\n",
    " 1954,\n",
    " 1955,\n",
    " 1956,\n",
    " 1957,\n",
    " 1958,\n",
    " 1959,\n",
    " 1960,\n",
    " 1961,\n",
    " 1962,\n",
    " 1963,\n",
    " 1964,\n",
    " 1965,\n",
    " 1966,\n",
    " 1967,\n",
    " 1968,\n",
    " 1969,\n",
    " 1970,\n",
    " 1971,\n",
    " 1972,\n",
    " 1973,\n",
    " 1974,\n",
    " 1975,\n",
    " 1976,\n",
    " 1977,\n",
    " 1978,\n",
    " 1979,\n",
    " 1980,\n",
    " 1981,\n",
    " 1982,\n",
    " 1983,\n",
    " 1984,\n",
    " 1985,\n",
    " 1986,\n",
    " 1987,\n",
    " 1988,\n",
    " 1989,\n",
    " 1990,\n",
    " 1991,\n",
    " 1992,\n",
    " 1993,\n",
    " 1994,\n",
    " 1995,\n",
    " 1996,\n",
    " 1997,\n",
    " 1998,\n",
    " 1999,\n",
    " 2000,\n",
    " 2001,\n",
    " 2002,\n",
    " 2003,\n",
    " 2004,\n",
    " 2005,\n",
    " 2006,\n",
    " 2007,\n",
    " 2008,\n",
    " 2009,\n",
    " 2010,\n",
    " 2011,\n",
    " 2012,\n",
    " 2013,\n",
    " 2014,\n",
    " 2015,\n",
    " 2016,\n",
    " 2017,\n",
    " 2018,\n",
    " 2019,\n",
    " 2020,\n",
    " 2021,\n",
    " 2022,\n",
    " 2023,\n",
    " 2024,\n",
    " 2025,\n",
    " 2026,\n",
    " 2027,\n",
    " 2028,\n",
    " 2029,\n",
    " 2030,\n",
    " 2031,\n",
    " 2032,\n",
    " 2033,\n",
    " 2034,\n",
    " 2035,\n",
    " 2036,\n",
    " 2037,\n",
    " 2038,\n",
    " 2039,\n",
    " 2040,\n",
    " 2041,\n",
    " 2042,\n",
    " 2043,\n",
    " 2044,\n",
    " 2045,\n",
    " 2046,\n",
    " 2047,\n",
    " 2048,\n",
    " 2049,\n",
    " 2050,\n",
    " 2051,\n",
    " 2052,\n",
    " 2053,\n",
    " 2054,\n",
    " 2055,\n",
    " 2056,\n",
    " 2057,\n",
    " 2058,\n",
    " 2059,\n",
    " 2060,\n",
    " 2061,\n",
    " 2062,\n",
    " 2063,\n",
    " 2064,\n",
    " 2065,\n",
    " 2066,\n",
    " 2067,\n",
    " 2068,\n",
    " 2069,\n",
    " 2070,\n",
    " 2071,\n",
    " 2072,\n",
    " 2073,\n",
    " 2074,\n",
    " 2075,\n",
    " 2076,\n",
    " 2077,\n",
    " 2078,\n",
    " 2079,\n",
    " 2080,\n",
    " 2081,\n",
    " 2082,\n",
    " 2083,\n",
    " 2084,\n",
    " 2085,\n",
    " 2086,\n",
    " 2087,\n",
    " 2088,\n",
    " 2089,\n",
    " 2090,\n",
    " 2091,\n",
    " 2092,\n",
    " 2093,\n",
    " 2094,\n",
    " 2095,\n",
    " 2096,\n",
    " 2097,\n",
    " 2098,\n",
    " 2099,\n",
    " 2100]\n",
    "\n",
    "pop=[2.53,\n",
    " 2.57,\n",
    " 2.62,\n",
    " 2.67,\n",
    " 2.71,\n",
    " 2.76,\n",
    " 2.81,\n",
    " 2.86,\n",
    " 2.92,\n",
    " 2.97,\n",
    " 3.03,\n",
    " 3.08,\n",
    " 3.14,\n",
    " 3.2,\n",
    " 3.26,\n",
    " 3.33,\n",
    " 3.4,\n",
    " 3.47,\n",
    " 3.54,\n",
    " 3.62,\n",
    " 3.69,\n",
    " 3.77,\n",
    " 3.84,\n",
    " 3.92,\n",
    " 4.0,\n",
    " 4.07,\n",
    " 4.15,\n",
    " 4.22,\n",
    " 4.3,\n",
    " 4.37,\n",
    " 4.45,\n",
    " 4.53,\n",
    " 4.61,\n",
    " 4.69,\n",
    " 4.78,\n",
    " 4.86,\n",
    " 4.95,\n",
    " 5.05,\n",
    " 5.14,\n",
    " 5.23,\n",
    " 5.32,\n",
    " 5.41,\n",
    " 5.49,\n",
    " 5.58,\n",
    " 5.66,\n",
    " 5.74,\n",
    " 5.82,\n",
    " 5.9,\n",
    " 5.98,\n",
    " 6.05,\n",
    " 6.13,\n",
    " 6.2,\n",
    " 6.28,\n",
    " 6.36,\n",
    " 6.44,\n",
    " 6.51,\n",
    " 6.59,\n",
    " 6.67,\n",
    " 6.75,\n",
    " 6.83,\n",
    " 6.92,\n",
    " 7.0,\n",
    " 7.08,\n",
    " 7.16,\n",
    " 7.24,\n",
    " 7.32,\n",
    " 7.4,\n",
    " 7.48,\n",
    " 7.56,\n",
    " 7.64,\n",
    " 7.72,\n",
    " 7.79,\n",
    " 7.87,\n",
    " 7.94,\n",
    " 8.01,\n",
    " 8.08,\n",
    " 8.15,\n",
    " 8.22,\n",
    " 8.29,\n",
    " 8.36,\n",
    " 8.42,\n",
    " 8.49,\n",
    " 8.56,\n",
    " 8.62,\n",
    " 8.68,\n",
    " 8.74,\n",
    " 8.8,\n",
    " 8.86,\n",
    " 8.92,\n",
    " 8.98,\n",
    " 9.04,\n",
    " 9.09,\n",
    " 9.15,\n",
    " 9.2,\n",
    " 9.26,\n",
    " 9.31,\n",
    " 9.36,\n",
    " 9.41,\n",
    " 9.46,\n",
    " 9.5,\n",
    " 9.55,\n",
    " 9.6,\n",
    " 9.64,\n",
    " 9.68,\n",
    " 9.73,\n",
    " 9.77,\n",
    " 9.81,\n",
    " 9.85,\n",
    " 9.88,\n",
    " 9.92,\n",
    " 9.96,\n",
    " 9.99,\n",
    " 10.03,\n",
    " 10.06,\n",
    " 10.09,\n",
    " 10.13,\n",
    " 10.16,\n",
    " 10.19,\n",
    " 10.22,\n",
    " 10.25,\n",
    " 10.28,\n",
    " 10.31,\n",
    " 10.33,\n",
    " 10.36,\n",
    " 10.38,\n",
    " 10.41,\n",
    " 10.43,\n",
    " 10.46,\n",
    " 10.48,\n",
    " 10.5,\n",
    " 10.52,\n",
    " 10.55,\n",
    " 10.57,\n",
    " 10.59,\n",
    " 10.61,\n",
    " 10.63,\n",
    " 10.65,\n",
    " 10.66,\n",
    " 10.68,\n",
    " 10.7,\n",
    " 10.72,\n",
    " 10.73,\n",
    " 10.75,\n",
    " 10.77,\n",
    " 10.78,\n",
    " 10.79,\n",
    " 10.81,\n",
    " 10.82,\n",
    " 10.83,\n",
    " 10.84,\n",
    " 10.85]\n",
    "\n",
    "gdp_cap=[974.5803384,\n",
    " 5937.029525999998,\n",
    " 6223.367465,\n",
    " 4797.231267,\n",
    " 12779.37964,\n",
    " 34435.367439999995,\n",
    " 36126.4927,\n",
    " 29796.04834,\n",
    " 1391.253792,\n",
    " 33692.60508,\n",
    " 1441.284873,\n",
    " 3822.137084,\n",
    " 7446.298803,\n",
    " 12569.85177,\n",
    " 9065.800825,\n",
    " 10680.79282,\n",
    " 1217.032994,\n",
    " 430.0706916,\n",
    " 1713.778686,\n",
    " 2042.09524,\n",
    " 36319.23501,\n",
    " 706.016537,\n",
    " 1704.063724,\n",
    " 13171.63885,\n",
    " 4959.114854,\n",
    " 7006.580419,\n",
    " 986.1478792,\n",
    " 277.5518587,\n",
    " 3632.557798,\n",
    " 9645.06142,\n",
    " 1544.750112,\n",
    " 14619.222719999998,\n",
    " 8948.102923,\n",
    " 22833.30851,\n",
    " 35278.41874,\n",
    " 2082.4815670000007,\n",
    " 6025.3747520000015,\n",
    " 6873.262326000001,\n",
    " 5581.180998,\n",
    " 5728.353514,\n",
    " 12154.08975,\n",
    " 641.3695236000002,\n",
    " 690.8055759,\n",
    " 33207.0844,\n",
    " 30470.0167,\n",
    " 13206.48452,\n",
    " 752.7497265,\n",
    " 32170.37442,\n",
    " 1327.60891,\n",
    " 27538.41188,\n",
    " 5186.050003,\n",
    " 942.6542111,\n",
    " 579.2317429999998,\n",
    " 1201.637154,\n",
    " 3548.3308460000007,\n",
    " 39724.97867,\n",
    " 18008.94444,\n",
    " 36180.78919,\n",
    " 2452.210407,\n",
    " 3540.651564,\n",
    " 11605.71449,\n",
    " 4471.061906,\n",
    " 40675.99635,\n",
    " 25523.2771,\n",
    " 28569.7197,\n",
    " 7320.8802620000015,\n",
    " 31656.06806,\n",
    " 4519.461171,\n",
    " 1463.249282,\n",
    " 1593.06548,\n",
    " 23348.139730000006,\n",
    " 47306.98978,\n",
    " 10461.05868,\n",
    " 1569.331442,\n",
    " 414.5073415,\n",
    " 12057.49928,\n",
    " 1044.770126,\n",
    " 759.3499101,\n",
    " 12451.6558,\n",
    " 1042.581557,\n",
    " 1803.151496,\n",
    " 10956.99112,\n",
    " 11977.57496,\n",
    " 3095.7722710000007,\n",
    " 9253.896111,\n",
    " 3820.17523,\n",
    " 823.6856205,\n",
    " 944.0,\n",
    " 4811.060429,\n",
    " 1091.359778,\n",
    " 36797.93332,\n",
    " 25185.00911,\n",
    " 2749.320965,\n",
    " 619.6768923999998,\n",
    " 2013.977305,\n",
    " 49357.19017,\n",
    " 22316.19287,\n",
    " 2605.94758,\n",
    " 9809.185636,\n",
    " 4172.838464,\n",
    " 7408.905561,\n",
    " 3190.481016,\n",
    " 15389.924680000002,\n",
    " 20509.64777,\n",
    " 19328.70901,\n",
    " 7670.122558,\n",
    " 10808.47561,\n",
    " 863.0884639000002,\n",
    " 1598.435089,\n",
    " 21654.83194,\n",
    " 1712.472136,\n",
    " 9786.534714,\n",
    " 862.5407561000002,\n",
    " 47143.17964,\n",
    " 18678.31435,\n",
    " 25768.25759,\n",
    " 926.1410683,\n",
    " 9269.657808,\n",
    " 28821.0637,\n",
    " 3970.095407,\n",
    " 2602.394995,\n",
    " 4513.480643,\n",
    " 33859.74835,\n",
    " 37506.41907,\n",
    " 4184.548089,\n",
    " 28718.27684,\n",
    " 1107.482182,\n",
    " 7458.396326999998,\n",
    " 882.9699437999999,\n",
    " 18008.50924,\n",
    " 7092.923025,\n",
    " 8458.276384,\n",
    " 1056.380121,\n",
    " 33203.26128,\n",
    " 42951.65309,\n",
    " 10611.46299,\n",
    " 11415.80569,\n",
    " 2441.576404,\n",
    " 3025.349798,\n",
    " 2280.769906,\n",
    " 1271.211593,\n",
    " 469.70929810000007]\n",
    "\n",
    "\n",
    "life_exp=[43.828,\n",
    " 76.423,\n",
    " 72.301,\n",
    " 42.731,\n",
    " 75.32,\n",
    " 81.235,\n",
    " 79.829,\n",
    " 75.635,\n",
    " 64.062,\n",
    " 79.441,\n",
    " 56.728,\n",
    " 65.554,\n",
    " 74.852,\n",
    " 50.728,\n",
    " 72.39,\n",
    " 73.005,\n",
    " 52.295,\n",
    " 49.58,\n",
    " 59.723,\n",
    " 50.43,\n",
    " 80.653,\n",
    " 44.74100000000001,\n",
    " 50.651,\n",
    " 78.553,\n",
    " 72.961,\n",
    " 72.889,\n",
    " 65.152,\n",
    " 46.462,\n",
    " 55.322,\n",
    " 78.782,\n",
    " 48.328,\n",
    " 75.748,\n",
    " 78.273,\n",
    " 76.486,\n",
    " 78.332,\n",
    " 54.791,\n",
    " 72.235,\n",
    " 74.994,\n",
    " 71.33800000000002,\n",
    " 71.878,\n",
    " 51.57899999999999,\n",
    " 58.04,\n",
    " 52.947,\n",
    " 79.313,\n",
    " 80.657,\n",
    " 56.735,\n",
    " 59.448,\n",
    " 79.406,\n",
    " 60.022,\n",
    " 79.483,\n",
    " 70.259,\n",
    " 56.007,\n",
    " 46.38800000000001,\n",
    " 60.916,\n",
    " 70.19800000000001,\n",
    " 82.208,\n",
    " 73.33800000000002,\n",
    " 81.757,\n",
    " 64.69800000000001,\n",
    " 70.65,\n",
    " 70.964,\n",
    " 59.545,\n",
    " 78.885,\n",
    " 80.745,\n",
    " 80.546,\n",
    " 72.567,\n",
    " 82.603,\n",
    " 72.535,\n",
    " 54.11,\n",
    " 67.297,\n",
    " 78.623,\n",
    " 77.58800000000002,\n",
    " 71.993,\n",
    " 42.592,\n",
    " 45.678,\n",
    " 73.952,\n",
    " 59.44300000000001,\n",
    " 48.303,\n",
    " 74.241,\n",
    " 54.467,\n",
    " 64.164,\n",
    " 72.801,\n",
    " 76.195,\n",
    " 66.803,\n",
    " 74.543,\n",
    " 71.164,\n",
    " 42.082,\n",
    " 62.069,\n",
    " 52.90600000000001,\n",
    " 63.785,\n",
    " 79.762,\n",
    " 80.204,\n",
    " 72.899,\n",
    " 56.867,\n",
    " 46.859,\n",
    " 80.196,\n",
    " 75.64,\n",
    " 65.483,\n",
    " 75.53699999999998,\n",
    " 71.752,\n",
    " 71.421,\n",
    " 71.688,\n",
    " 75.563,\n",
    " 78.098,\n",
    " 78.74600000000002,\n",
    " 76.442,\n",
    " 72.476,\n",
    " 46.242,\n",
    " 65.528,\n",
    " 72.777,\n",
    " 63.062,\n",
    " 74.002,\n",
    " 42.56800000000001,\n",
    " 79.972,\n",
    " 74.663,\n",
    " 77.926,\n",
    " 48.159,\n",
    " 49.339,\n",
    " 80.941,\n",
    " 72.396,\n",
    " 58.556,\n",
    " 39.613,\n",
    " 80.884,\n",
    " 81.70100000000002,\n",
    " 74.143,\n",
    " 78.4,\n",
    " 52.517,\n",
    " 70.616,\n",
    " 58.42,\n",
    " 69.819,\n",
    " 73.923,\n",
    " 71.777,\n",
    " 51.542,\n",
    " 79.425,\n",
    " 78.242,\n",
    " 76.384,\n",
    " 73.747,\n",
    " 74.249,\n",
    " 73.422,\n",
    " 62.698,\n",
    " 42.38399999999999,\n",
    " 43.487]\n"
   ]
  },
  {
   "cell_type": "code",
   "execution_count": null,
   "metadata": {},
   "outputs": [],
   "source": [
    "# Import matplotlib.pyplot as plt\n",
    "import matplotlib.pyplot as plt"
   ]
  },
  {
   "cell_type": "markdown",
   "metadata": {},
   "source": [
    "Use plt.plot() to build a line plot. year should be mapped on the horizontal axis, pop on the vertical axis. Don't forget to finish off with the show() function to actually display the plot."
   ]
  },
  {
   "cell_type": "code",
   "execution_count": 5,
   "metadata": {},
   "outputs": [
    {
     "name": "stdout",
     "output_type": "stream",
     "text": [
      "2100\n",
      "10.85\n"
     ]
    }
   ],
   "source": [
    "# Print the last item from year and pop\n",
    "print(year[-1])\n",
    "print(pop[-1])"
   ]
  },
  {
   "cell_type": "code",
   "execution_count": 6,
   "metadata": {},
   "outputs": [
    {
     "data": {
      "image/png": "[encoded data removed]",
      "text/plain": [
       "<Figure size 432x288 with 1 Axes>"
      ]
     },
     "metadata": {
      "needs_background": "light"
     },
     "output_type": "display_data"
    }
   ],
   "source": [
    "# Make a line plot: year on the x-axis, pop on the y-axis\n",
    "plt.plot(year, pop)\n",
    "\n",
    "# Display the plot with plt.show()\n",
    "plt.show()"
   ]
  },
  {
   "cell_type": "markdown",
   "metadata": {},
   "source": [
    "Create a line plot"
   ]
  },
  {
   "cell_type": "code",
   "execution_count": 8,
   "metadata": {},
   "outputs": [
    {
     "data": {
      "image/png": "[encoded data removed]",
      "text/plain": [
       "<Figure size 432x288 with 1 Axes>"
      ]
     },
     "metadata": {
      "needs_background": "light"
     },
     "output_type": "display_data"
    }
   ],
   "source": [
    "# Make a line plot, gdp_cap on the x-axis, life_exp on the y-axis\n",
    "plt.plot(gdp_cap, life_exp)\n",
    "\n",
    "# Display the plot\n",
    "plt.show()"
   ]
  },
  {
   "cell_type": "markdown",
   "metadata": {},
   "source": [
    "create a line plot"
   ]
  },
  {
   "cell_type": "code",
   "execution_count": 9,
   "metadata": {},
   "outputs": [
    {
     "data": {
      "image/png": "[encoded data removed]",
      "text/plain": [
       "<Figure size 432x288 with 1 Axes>"
      ]
     },
     "metadata": {
      "needs_background": "light"
     },
     "output_type": "display_data"
    }
   ],
   "source": [
    "# Change the line plot below to a scatter plot\n",
    "plt.scatter(gdp_cap, life_exp)\n",
    "\n",
    "# Put the x-axis on a logarithmic scale\n",
    "plt.xscale('log')\n",
    "\n",
    "# Show plot\n",
    "plt.show()"
   ]
  },
  {
   "cell_type": "code",
   "execution_count": 12,
   "metadata": {
    "collapsed": true,
    "jupyter": {
     "outputs_hidden": true
    }
   },
   "outputs": [
    {
     "ename": "ValueError",
     "evalue": "x and y must be the same size",
     "output_type": "error",
     "traceback": [
      "\u001b[0;31m---------------------------------------------------------------------------\u001b[0m",
      "\u001b[0;31mValueError\u001b[0m                                Traceback (most recent call last)",
      "\u001b[0;32m<ipython-input-12-915a6a2b9d42>\u001b[0m in \u001b[0;36m<module>\u001b[0;34m\u001b[0m\n\u001b[1;32m      1\u001b[0m \u001b[0;31m# Build Scatter plot\u001b[0m\u001b[0;34m\u001b[0m\u001b[0;34m\u001b[0m\u001b[0;34m\u001b[0m\u001b[0m\n\u001b[0;32m----> 2\u001b[0;31m \u001b[0mplt\u001b[0m\u001b[0;34m.\u001b[0m\u001b[0mscatter\u001b[0m\u001b[0;34m(\u001b[0m \u001b[0mpop\u001b[0m\u001b[0;34m,\u001b[0m \u001b[0mlife_exp\u001b[0m\u001b[0;34m)\u001b[0m\u001b[0;34m\u001b[0m\u001b[0;34m\u001b[0m\u001b[0m\n\u001b[0m\u001b[1;32m      3\u001b[0m \u001b[0;34m\u001b[0m\u001b[0m\n\u001b[1;32m      4\u001b[0m \u001b[0;31m# Show plot\u001b[0m\u001b[0;34m\u001b[0m\u001b[0;34m\u001b[0m\u001b[0;34m\u001b[0m\u001b[0m\n\u001b[1;32m      5\u001b[0m \u001b[0mplt\u001b[0m\u001b[0;34m.\u001b[0m\u001b[0mshow\u001b[0m\u001b[0;34m(\u001b[0m\u001b[0;34m)\u001b[0m\u001b[0;34m\u001b[0m\u001b[0;34m\u001b[0m\u001b[0m\n",
      "\u001b[0;32m/opt/anaconda3/lib/python3.7/site-packages/matplotlib/pyplot.py\u001b[0m in \u001b[0;36mscatter\u001b[0;34m(x, y, s, c, marker, cmap, norm, vmin, vmax, alpha, linewidths, verts, edgecolors, plotnonfinite, data, **kwargs)\u001b[0m\n\u001b[1;32m   2845\u001b[0m         \u001b[0mverts\u001b[0m\u001b[0;34m=\u001b[0m\u001b[0mverts\u001b[0m\u001b[0;34m,\u001b[0m \u001b[0medgecolors\u001b[0m\u001b[0;34m=\u001b[0m\u001b[0medgecolors\u001b[0m\u001b[0;34m,\u001b[0m\u001b[0;34m\u001b[0m\u001b[0;34m\u001b[0m\u001b[0m\n\u001b[1;32m   2846\u001b[0m         plotnonfinite=plotnonfinite, **({\"data\": data} if data is not\n\u001b[0;32m-> 2847\u001b[0;31m         None else {}), **kwargs)\n\u001b[0m\u001b[1;32m   2848\u001b[0m     \u001b[0msci\u001b[0m\u001b[0;34m(\u001b[0m\u001b[0m__ret\u001b[0m\u001b[0;34m)\u001b[0m\u001b[0;34m\u001b[0m\u001b[0;34m\u001b[0m\u001b[0m\n\u001b[1;32m   2849\u001b[0m     \u001b[0;32mreturn\u001b[0m \u001b[0m__ret\u001b[0m\u001b[0;34m\u001b[0m\u001b[0;34m\u001b[0m\u001b[0m\n",
      "\u001b[0;32m/opt/anaconda3/lib/python3.7/site-packages/matplotlib/__init__.py\u001b[0m in \u001b[0;36minner\u001b[0;34m(ax, data, *args, **kwargs)\u001b[0m\n\u001b[1;32m   1599\u001b[0m     \u001b[0;32mdef\u001b[0m \u001b[0minner\u001b[0m\u001b[0;34m(\u001b[0m\u001b[0max\u001b[0m\u001b[0;34m,\u001b[0m \u001b[0;34m*\u001b[0m\u001b[0margs\u001b[0m\u001b[0;34m,\u001b[0m \u001b[0mdata\u001b[0m\u001b[0;34m=\u001b[0m\u001b[0;32mNone\u001b[0m\u001b[0;34m,\u001b[0m \u001b[0;34m**\u001b[0m\u001b[0mkwargs\u001b[0m\u001b[0;34m)\u001b[0m\u001b[0;34m:\u001b[0m\u001b[0;34m\u001b[0m\u001b[0;34m\u001b[0m\u001b[0m\n\u001b[1;32m   1600\u001b[0m         \u001b[0;32mif\u001b[0m \u001b[0mdata\u001b[0m \u001b[0;32mis\u001b[0m \u001b[0;32mNone\u001b[0m\u001b[0;34m:\u001b[0m\u001b[0;34m\u001b[0m\u001b[0;34m\u001b[0m\u001b[0m\n\u001b[0;32m-> 1601\u001b[0;31m             \u001b[0;32mreturn\u001b[0m \u001b[0mfunc\u001b[0m\u001b[0;34m(\u001b[0m\u001b[0max\u001b[0m\u001b[0;34m,\u001b[0m \u001b[0;34m*\u001b[0m\u001b[0mmap\u001b[0m\u001b[0;34m(\u001b[0m\u001b[0msanitize_sequence\u001b[0m\u001b[0;34m,\u001b[0m \u001b[0margs\u001b[0m\u001b[0;34m)\u001b[0m\u001b[0;34m,\u001b[0m \u001b[0;34m**\u001b[0m\u001b[0mkwargs\u001b[0m\u001b[0;34m)\u001b[0m\u001b[0;34m\u001b[0m\u001b[0;34m\u001b[0m\u001b[0m\n\u001b[0m\u001b[1;32m   1602\u001b[0m \u001b[0;34m\u001b[0m\u001b[0m\n\u001b[1;32m   1603\u001b[0m         \u001b[0mbound\u001b[0m \u001b[0;34m=\u001b[0m \u001b[0mnew_sig\u001b[0m\u001b[0;34m.\u001b[0m\u001b[0mbind\u001b[0m\u001b[0;34m(\u001b[0m\u001b[0max\u001b[0m\u001b[0;34m,\u001b[0m \u001b[0;34m*\u001b[0m\u001b[0margs\u001b[0m\u001b[0;34m,\u001b[0m \u001b[0;34m**\u001b[0m\u001b[0mkwargs\u001b[0m\u001b[0;34m)\u001b[0m\u001b[0;34m\u001b[0m\u001b[0;34m\u001b[0m\u001b[0m\n",
      "\u001b[0;32m/opt/anaconda3/lib/python3.7/site-packages/matplotlib/axes/_axes.py\u001b[0m in \u001b[0;36mscatter\u001b[0;34m(self, x, y, s, c, marker, cmap, norm, vmin, vmax, alpha, linewidths, verts, edgecolors, plotnonfinite, **kwargs)\u001b[0m\n\u001b[1;32m   4442\u001b[0m         \u001b[0my\u001b[0m \u001b[0;34m=\u001b[0m \u001b[0mnp\u001b[0m\u001b[0;34m.\u001b[0m\u001b[0mma\u001b[0m\u001b[0;34m.\u001b[0m\u001b[0mravel\u001b[0m\u001b[0;34m(\u001b[0m\u001b[0my\u001b[0m\u001b[0;34m)\u001b[0m\u001b[0;34m\u001b[0m\u001b[0;34m\u001b[0m\u001b[0m\n\u001b[1;32m   4443\u001b[0m         \u001b[0;32mif\u001b[0m \u001b[0mx\u001b[0m\u001b[0;34m.\u001b[0m\u001b[0msize\u001b[0m \u001b[0;34m!=\u001b[0m \u001b[0my\u001b[0m\u001b[0;34m.\u001b[0m\u001b[0msize\u001b[0m\u001b[0;34m:\u001b[0m\u001b[0;34m\u001b[0m\u001b[0;34m\u001b[0m\u001b[0m\n\u001b[0;32m-> 4444\u001b[0;31m             \u001b[0;32mraise\u001b[0m \u001b[0mValueError\u001b[0m\u001b[0;34m(\u001b[0m\u001b[0;34m\"x and y must be the same size\"\u001b[0m\u001b[0;34m)\u001b[0m\u001b[0;34m\u001b[0m\u001b[0;34m\u001b[0m\u001b[0m\n\u001b[0m\u001b[1;32m   4445\u001b[0m \u001b[0;34m\u001b[0m\u001b[0m\n\u001b[1;32m   4446\u001b[0m         \u001b[0;32mif\u001b[0m \u001b[0ms\u001b[0m \u001b[0;32mis\u001b[0m \u001b[0;32mNone\u001b[0m\u001b[0;34m:\u001b[0m\u001b[0;34m\u001b[0m\u001b[0;34m\u001b[0m\u001b[0m\n",
      "\u001b[0;31mValueError\u001b[0m: x and y must be the same size"
     ]
    },
    {
     "data": {
      "image/png": "[encoded data removed]",
      "text/plain": [
       "<Figure size 432x288 with 1 Axes>"
      ]
     },
     "metadata": {
      "needs_background": "light"
     },
     "output_type": "display_data"
    }
   ],
   "source": [
    "# Build Scatter plot\n",
    "plt.scatter( pop, life_exp)\n",
    "\n",
    "# Show plot\n",
    "plt.show()"
   ]
  },
  {
   "cell_type": "code",
   "execution_count": 13,
   "metadata": {},
   "outputs": [
    {
     "data": {
      "image/png": "[encoded data removed]",
      "text/plain": [
       "<Figure size 432x288 with 1 Axes>"
      ]
     },
     "metadata": {
      "needs_background": "light"
     },
     "output_type": "display_data"
    }
   ],
   "source": [
    "# Create histogram of life_exp data\n",
    "plt.hist(life_exp)\n",
    "\n",
    "# Display histogram\n",
    "plt.show()"
   ]
  },
  {
   "cell_type": "markdown",
   "metadata": {},
   "source": [
    "* Build a histogram of life_exp, with 5 bins. Can you tell which bin contains the most observations?\n",
    "* Build another histogram of life_exp, this time with 20 bins. Is this better?\n"
   ]
  },
  {
   "cell_type": "code",
   "execution_count": 14,
   "metadata": {},
   "outputs": [
    {
     "data": {
      "image/png": "[encoded data removed]",
      "text/plain": [
       "<Figure size 432x288 with 1 Axes>"
      ]
     },
     "metadata": {
      "needs_background": "light"
     },
     "output_type": "display_data"
    },
    {
     "data": {
      "image/png": "[encoded data removed]",
      "text/plain": [
       "<Figure size 432x288 with 1 Axes>"
      ]
     },
     "metadata": {
      "needs_background": "light"
     },
     "output_type": "display_data"
    },
    {
     "data": {
      "text/plain": [
       "<Figure size 432x288 with 0 Axes>"
      ]
     },
     "metadata": {},
     "output_type": "display_data"
    }
   ],
   "source": [
    "# Build histogram with 5 bins\n",
    "plt.hist(life_exp, bins = 5)\n",
    "\n",
    "# Show and clean up plot\n",
    "plt.show()\n",
    "plt.clf()\n",
    "\n",
    "# Build histogram with 20 bins\n",
    "plt.hist(life_exp, bins = 20)\n",
    "\n",
    "# Show and clean up again\n",
    "plt.show()\n",
    "plt.clf()"
   ]
  },
  {
   "cell_type": "markdown",
   "metadata": {},
   "source": [
    "* The strings xlab and ylab are already set for you. Use these variables to set the label of the x- and y-axis.\n",
    "* The string title is also coded for you. Use it to add a title to the plot.\n",
    "* After these customizations, finish the script with plt.show() to actually display the plot."
   ]
  },
  {
   "cell_type": "code",
   "execution_count": 15,
   "metadata": {},
   "outputs": [
    {
     "data": {
      "image/png": "[encoded data removed]",
      "text/plain": [
       "<Figure size 432x288 with 1 Axes>"
      ]
     },
     "metadata": {
      "needs_background": "light"
     },
     "output_type": "display_data"
    }
   ],
   "source": [
    "# Basic scatter plot, log scale\n",
    "plt.scatter(gdp_cap, life_exp)\n",
    "plt.xscale('log') \n",
    "\n",
    "# Strings\n",
    "xlab = 'GDP per Capita [in USD]'\n",
    "ylab = 'Life Expectancy [in years]'\n",
    "title = 'World Development in 2007'\n",
    "\n",
    "# Add axis labels\n",
    "plt.xlabel(xlab)\n",
    "plt.ylabel(ylab)\n",
    "\n",
    "# Add title\n",
    "plt.title(title)\n",
    "\n",
    "# After customizing, display the plot\n",
    "plt.show()"
   ]
  },
  {
   "cell_type": "markdown",
   "metadata": {},
   "source": [
    "* Use tick_val and tick_lab as inputs to the xticks() function to make the the plot more readable.\n",
    "* As usual, display the plot with plt.show() after you've added the customizations."
   ]
  },
  {
   "cell_type": "code",
   "execution_count": 16,
   "metadata": {},
   "outputs": [
    {
     "data": {
      "image/png": "[encoded data removed]",
      "text/plain": [
       "<Figure size 432x288 with 1 Axes>"
      ]
     },
     "metadata": {
      "needs_background": "light"
     },
     "output_type": "display_data"
    }
   ],
   "source": [
    "# Scatter plot\n",
    "plt.scatter(gdp_cap, life_exp)\n",
    "\n",
    "# Previous customizations\n",
    "plt.xscale('log') \n",
    "plt.xlabel('GDP per Capita [in USD]')\n",
    "plt.ylabel('Life Expectancy [in years]')\n",
    "plt.title('World Development in 2007')\n",
    "\n",
    "# Definition of tick_val and tick_lab\n",
    "tick_val = [1000, 10000, 100000]\n",
    "tick_lab = ['1k', '10k', '100k']\n",
    "\n",
    "# Adapt the ticks on the x-axis\n",
    "plt.xticks(tick_val, tick_lab)\n",
    "\n",
    "# After customizing, display the plot\n",
    "plt.show()"
   ]
  },
  {
   "cell_type": "code",
   "execution_count": 17,
   "metadata": {},
   "outputs": [
    {
     "data": {
      "image/png": "[encoded data removed]",
      "text/plain": [
       "<Figure size 432x288 with 1 Axes>"
      ]
     },
     "metadata": {
      "needs_background": "light"
     },
     "output_type": "display_data"
    }
   ],
   "source": [
    "# Import numpy as np\n",
    "import numpy as np\n",
    "\n",
    "# Store pop as a numpy array: np_pop\n",
    "np_pop=np.array(pop)\n",
    "\n",
    "# Double np_pop\n",
    "np_pop *=2\n",
    "\n",
    "# Update: set s argument to np_pop\n",
    "plt.scatter(gdp_cap, life_exp, s = np_pop)\n",
    "\n",
    "# Previous customizations\n",
    "plt.xscale('log') \n",
    "plt.xlabel('GDP per Capita [in USD]')\n",
    "plt.ylabel('Life Expectancy [in years]')\n",
    "plt.title('World Development in 2007')\n",
    "plt.xticks([1000, 10000, 100000],['1k', '10k', '100k'])\n",
    "\n",
    "# Display the plot\n",
    "plt.show()"
   ]
  },
  {
   "cell_type": "code",
   "execution_count": 21,
   "metadata": {
    "jupyter": {
     "source_hidden": true
    }
   },
   "outputs": [],
   "source": [
    "col=['red',\n",
    " 'green',\n",
    " 'blue',\n",
    " 'blue',\n",
    " 'yellow',\n",
    " 'black',\n",
    " 'green',\n",
    " 'red',\n",
    " 'red',\n",
    " 'green',\n",
    " 'blue',\n",
    " 'yellow',\n",
    " 'green',\n",
    " 'blue',\n",
    " 'yellow',\n",
    " 'green',\n",
    " 'blue',\n",
    " 'blue',\n",
    " 'red',\n",
    " 'blue',\n",
    " 'yellow',\n",
    " 'blue',\n",
    " 'blue',\n",
    " 'yellow',\n",
    " 'red',\n",
    " 'yellow',\n",
    " 'blue',\n",
    " 'blue',\n",
    " 'blue',\n",
    " 'yellow',\n",
    " 'blue',\n",
    " 'green',\n",
    " 'yellow',\n",
    " 'green',\n",
    " 'green',\n",
    " 'blue',\n",
    " 'yellow',\n",
    " 'yellow',\n",
    " 'blue',\n",
    " 'yellow',\n",
    " 'blue',\n",
    " 'blue',\n",
    " 'blue',\n",
    " 'green',\n",
    " 'green',\n",
    " 'blue',\n",
    " 'blue',\n",
    " 'green',\n",
    " 'blue',\n",
    " 'green',\n",
    " 'yellow',\n",
    " 'blue',\n",
    " 'blue',\n",
    " 'yellow',\n",
    " 'yellow',\n",
    " 'red',\n",
    " 'green',\n",
    " 'green',\n",
    " 'red',\n",
    " 'red',\n",
    " 'red',\n",
    " 'red',\n",
    " 'green',\n",
    " 'red',\n",
    " 'green',\n",
    " 'yellow',\n",
    " 'red',\n",
    " 'red',\n",
    " 'blue',\n",
    " 'red',\n",
    " 'red',\n",
    " 'red',\n",
    " 'red',\n",
    " 'blue',\n",
    " 'blue',\n",
    " 'blue',\n",
    " 'blue',\n",
    " 'blue',\n",
    " 'red',\n",
    " 'blue',\n",
    " 'blue',\n",
    " 'blue',\n",
    " 'yellow',\n",
    " 'red',\n",
    " 'green',\n",
    " 'blue',\n",
    " 'blue',\n",
    " 'red',\n",
    " 'blue',\n",
    " 'red',\n",
    " 'green',\n",
    " 'black',\n",
    " 'yellow',\n",
    " 'blue',\n",
    " 'blue',\n",
    " 'green',\n",
    " 'red',\n",
    " 'red',\n",
    " 'yellow',\n",
    " 'yellow',\n",
    " 'yellow',\n",
    " 'red',\n",
    " 'green',\n",
    " 'green',\n",
    " 'yellow',\n",
    " 'blue',\n",
    " 'green',\n",
    " 'blue',\n",
    " 'blue',\n",
    " 'red',\n",
    " 'blue',\n",
    " 'green',\n",
    " 'blue',\n",
    " 'red',\n",
    " 'green',\n",
    " 'green',\n",
    " 'blue',\n",
    " 'blue',\n",
    " 'green',\n",
    " 'red',\n",
    " 'blue',\n",
    " 'blue',\n",
    " 'green',\n",
    " 'green',\n",
    " 'red',\n",
    " 'red',\n",
    " 'blue',\n",
    " 'red',\n",
    " 'blue',\n",
    " 'yellow',\n",
    " 'blue',\n",
    " 'green',\n",
    " 'blue',\n",
    " 'green',\n",
    " 'yellow',\n",
    " 'yellow',\n",
    " 'yellow',\n",
    " 'red',\n",
    " 'red',\n",
    " 'red',\n",
    " 'blue',\n",
    " 'blue']"
   ]
  },
  {
   "cell_type": "markdown",
   "metadata": {},
   "source": [
    "* Add c = col to the arguments of the plt.scatter() function.\n",
    "* Change the opacity of the bubbles by setting the alpha argument to 0.8 inside plt.scatter(). Alpha can be set from zero to one, where zero is totally transparent, and one is not at all transparent."
   ]
  },
  {
   "cell_type": "code",
   "execution_count": 20,
   "metadata": {},
   "outputs": [
    {
     "data": {
      "image/png": "[encoded data removed]",
      "text/plain": [
       "<Figure size 432x288 with 1 Axes>"
      ]
     },
     "metadata": {
      "needs_background": "light"
     },
     "output_type": "display_data"
    }
   ],
   "source": [
    "# Specify c and alpha inside plt.scatter()\n",
    "plt.scatter(x = gdp_cap, y = life_exp, s = np.array(pop) * 2, c = col, alpha = 0.8)\n",
    "\n",
    "# Previous customizations\n",
    "plt.xscale('log') \n",
    "plt.xlabel('GDP per Capita [in USD]')\n",
    "plt.ylabel('Life Expectancy [in years]')\n",
    "plt.title('World Development in 2007')\n",
    "plt.xticks([1000,10000,100000], ['1k','10k','100k'])\n",
    "\n",
    "# Show the plot\n",
    "plt.show()"
   ]
  },
  {
   "cell_type": "code",
   "execution_count": 22,
   "metadata": {},
   "outputs": [
    {
     "data": {
      "image/png": "[encoded data removed]",
      "text/plain": [
       "<Figure size 432x288 with 1 Axes>"
      ]
     },
     "metadata": {
      "needs_background": "light"
     },
     "output_type": "display_data"
    }
   ],
   "source": [
    "plt.clf()\n",
    "# Scatter plot\n",
    "plt.scatter(x = gdp_cap, y = life_exp, s = np.array(pop) * 2, c = col, alpha = 0.8)\n",
    "\n",
    "# Previous customizations\n",
    "plt.xscale('log') \n",
    "plt.xlabel('GDP per Capita [in USD]')\n",
    "plt.ylabel('Life Expectancy [in years]')\n",
    "plt.title('World Development in 2007')\n",
    "plt.xticks([1000,10000,100000], ['1k','10k','100k'])\n",
    "\n",
    "# Additional customizations\n",
    "plt.text(1550, 71, 'India')\n",
    "plt.text(5700, 80, 'China')\n",
    "\n",
    "# Add grid() call\n",
    "plt.grid(True)\n",
    "# Show the plot\n",
    "plt.show()"
   ]
  },
  {
   "cell_type": "markdown",
   "metadata": {},
   "source": [
    "## Chapter 2:"
   ]
  },
  {
   "cell_type": "code",
   "execution_count": 25,
   "metadata": {},
   "outputs": [
    {
     "name": "stdout",
     "output_type": "stream",
     "text": [
      "{'spain': 'madrid', 'france': 'paris', 'germany': 'berlin', 'norway': 'oslo'}\n",
      "dict_keys(['spain', 'france', 'germany', 'norway'])\n",
      "dict_values(['madrid', 'paris', 'berlin', 'oslo'])\n"
     ]
    }
   ],
   "source": [
    "# Definition of countries and capital\n",
    "countries = ['spain', 'france', 'germany', 'norway']\n",
    "capitals = ['madrid', 'paris', 'berlin', 'oslo']\n",
    "\n",
    "# From string in countries and capitals, create dictionary europe\n",
    "europe = { 'spain':'madrid', 'france':'paris','germany':'berlin','norway':'oslo' }\n",
    "\n",
    "# Print europe\n",
    "print(europe)\n",
    "\n",
    "# Print out the keys in europe\n",
    "print(europe.keys())\n",
    "\n",
    "# Print out value that belongs to key 'norway'\n",
    "print(europe.values())"
   ]
  },
  {
   "cell_type": "code",
   "execution_count": 26,
   "metadata": {},
   "outputs": [
    {
     "name": "stdout",
     "output_type": "stream",
     "text": [
      "True\n",
      "{'spain': 'madrid', 'france': 'paris', 'germany': 'berlin', 'norway': 'oslo', 'italy': 'rome', 'poland': 'warsaw'}\n"
     ]
    }
   ],
   "source": [
    "# Add italy to europe\n",
    "europe['italy'] = 'rome'\n",
    "\n",
    "# Print out italy in europe\n",
    "print('italy' in europe)\n",
    "\n",
    "# Add poland to europe\n",
    "europe['poland'] = 'warsaw'\n",
    "\n",
    "# Print europe\n",
    "print(europe)"
   ]
  },
  {
   "cell_type": "code",
   "execution_count": 27,
   "metadata": {},
   "outputs": [
    {
     "name": "stdout",
     "output_type": "stream",
     "text": [
      "{'spain': 'madrid', 'france': 'paris', 'germany': 'berlin', 'norway': 'oslo', 'italy': 'rome', 'poland': 'warsaw'}\n"
     ]
    }
   ],
   "source": [
    "# Definition of dictionary\n",
    "europe = {'spain':'madrid', 'france':'paris', 'germany':'bonn',\n",
    "          'norway':'oslo', 'italy':'rome', 'poland':'warsaw',\n",
    "          'australia':'vienna' }\n",
    "\n",
    "# Update capital of germany\n",
    "europe['germany']='berlin'\n",
    "\n",
    "# Remove australia\n",
    "del(europe['australia'])\n",
    "\n",
    "# Print europe\n",
    "print(europe)"
   ]
  },
  {
   "cell_type": "code",
   "execution_count": 28,
   "metadata": {},
   "outputs": [
    {
     "name": "stdout",
     "output_type": "stream",
     "text": [
      "{'spain': {'capital': 'madrid', 'population': 46.77}, 'france': {'capital': 'paris', 'population': 66.03}, 'germany': {'capital': 'berlin', 'population': 80.62}, 'norway': {'capital': 'oslo', 'population': 5.084}, 'italy': {'capital': 'rome', 'population': 59.83}}\n"
     ]
    }
   ],
   "source": [
    "# Dictionary of dictionaries\n",
    "europe = { 'spain': { 'capital':'madrid', 'population':46.77 },\n",
    "           'france': { 'capital':'paris', 'population':66.03 },\n",
    "           'germany': { 'capital':'berlin', 'population':80.62 },\n",
    "           'norway': { 'capital':'oslo', 'population':5.084 } }\n",
    "\n",
    "\n",
    "# Print out the capital of France\n",
    "europe['france']['capital']\n",
    "\n",
    "# Create sub-dictionary data\n",
    "data = {'capital': 'rome', 'population': 59.83}\n",
    "\n",
    "# Add data to europe under key 'italy'\n",
    "europe['italy'] = data\n",
    "\n",
    "# Print europe\n",
    "print(europe)"
   ]
  },
  {
   "cell_type": "code",
   "execution_count": 29,
   "metadata": {},
   "outputs": [
    {
     "name": "stdout",
     "output_type": "stream",
     "text": [
      "         country  drives_right  cars_per_cap\n",
      "0  United States          True           809\n",
      "1      Australia         False           731\n",
      "2          Japan         False           588\n",
      "3          India         False            18\n",
      "4         Russia          True           200\n",
      "5        Morocco          True            70\n",
      "6          Egypt          True            45\n"
     ]
    }
   ],
   "source": [
    "# Pre-defined lists\n",
    "names = ['United States', 'Australia', 'Japan', 'India', 'Russia', 'Morocco', 'Egypt']\n",
    "dr =  [True, False, False, False, True, True, True]\n",
    "cpc = [809, 731, 588, 18, 200, 70, 45]\n",
    "\n",
    "# Import pandas as pd\n",
    "import pandas as pd\n",
    "\n",
    "# Create dictionary my_dict with three key:value pairs: my_dict\n",
    "my_dict = {'country': names, 'drives_right':dr, 'cars_per_cap':cpc}\n",
    "\n",
    "# Build a DataFrame cars from my_dict: cars\n",
    "cars = pd.DataFrame(my_dict)\n",
    "\n",
    "# Print cars\n",
    "print(cars)"
   ]
  },
  {
   "cell_type": "code",
   "execution_count": null,
   "metadata": {},
   "outputs": [],
   "source": []
  },
  {
   "cell_type": "markdown",
   "metadata": {},
   "source": [
    "## Chapter 3:"
   ]
  },
  {
   "cell_type": "markdown",
   "metadata": {},
   "source": [
    "## Chapter 4:"
   ]
  },
  {
   "cell_type": "code",
   "execution_count": null,
   "metadata": {},
   "outputs": [],
   "source": []
  }
 ],
 "metadata": {
  "kernelspec": {
   "display_name": "Python 3",
   "language": "python",
   "name": "python3"
  },
  "language_info": {
   "codemirror_mode": {
    "name": "ipython",
    "version": 3
   },
   "file_extension": ".py",
   "mimetype": "text/x-python",
   "name": "python",
   "nbconvert_exporter": "python",
   "pygments_lexer": "ipython3",
   "version": "3.7.4"
  }
 },
 "nbformat": 4,
 "nbformat_minor": 4
}
